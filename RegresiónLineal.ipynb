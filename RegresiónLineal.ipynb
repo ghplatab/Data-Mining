{
 "cells": [
  {
   "cell_type": "markdown",
   "metadata": {},
   "source": [
    "# Regresión Lineal"
   ]
  },
  {
   "cell_type": "markdown",
   "metadata": {},
   "source": [
    "## Introducción"
   ]
  },
  {
   "cell_type": "markdown",
   "metadata": {},
   "source": [
    "En sus inicios, a comienzos del siglo XIX, la primera aproximación a la regresión lineal fue en base a los trabajos que se habian realizado del método de los mínimos cuadrádos, Legendre 1805, método que básicamente consiste en encontrar una función continua, dentro de un conjunto de puntos o pares ordenados a una familia de funciones escogiendo la familia o función que mejor se aproxime a los datos. Carl Fridrich Gauss publicó un trabajo donde desarrollaba de manera más profunda el método de los mínimos cuadrados."
   ]
  },
  {
   "cell_type": "markdown",
   "metadata": {},
   "source": [
    "De manera general, una regresion lineal, es un metodo matemático para  para aproximar la relación de dependencia entre una variable dependiente ${\\displaystyle Y}$, junto con $m$ variables independientes ${\\displaystyle X_{i}}$, mas un termino asociado a la variabilidad del modelo, que corresponde al térmono del error $\\epsilon$.  [Regresión-lineal-Wikypedia](https://es.wikipedia.org/wiki/Regresi%C3%B3n_lineal)"
   ]
  },
  {
   "cell_type": "markdown",
   "metadata": {},
   "source": [
    "## Planteamiento del Algortimo"
   ]
  },
  {
   "cell_type": "markdown",
   "metadata": {},
   "source": [
    "El modelo de regresión lineal simple, es un modelo con un solo regresor $x$ que tiene una relación con una respuesta $y$, donde la relación es una línea recta cuyo modelo es; \n",
    "$y=\\beta_{0}+\\beta_{1} x+\\varepsilon$"
   ]
  },
  {
   "cell_type": "markdown",
   "metadata": {},
   "source": [
    "Donde; $\\beta_{0}$ es la ordenada al origen, $\\beta_{1}$ corresponde a la pendiente del modelo, los cuales son parámetros desconocidos que deben ser estimados, $\\varepsilon$ corresponde al componente aleatorio del error. \n",
    "Se asume que los errores tienen promedio cero y varianza $\\sigma^2$ desconocida ademas estos errores son no correlacionados.\n"
   ]
  },
  {
   "cell_type": "markdown",
   "metadata": {},
   "source": [
    "## Estimación de los parámetros $\\beta_{0} y  \\beta_{1}$"
   ]
  },
  {
   "cell_type": "markdown",
   "metadata": {},
   "source": [
    "Para estimar tales parámetros se usa el método de mínimos cuadrados. Esto es, se estiman $\\beta_{0} y  \\beta_{1}$ de modo que la suma de los cuadrados de las diferencias entre las observaciones $y_{i}$ y la línea recta sea mínima."
   ]
  },
  {
   "cell_type": "markdown",
   "metadata": {},
   "source": [
    "El criterio de mínimos cuadrados es el siguiente:\n",
    "\n",
    "$S\\left(\\beta_{0}, \\beta_{1}\\right)=\\sum_{i=1}^{n}\\left(y_{i}-\\beta_{0}-\\beta_{1} x_{i}\\right)^{2}$"
   ]
  },
  {
   "cell_type": "markdown",
   "metadata": {},
   "source": [
    "Los estimadores, por mínimos cuadrados, de $\\beta_{0}$, $\\beta_{1}$ se notan de la siguiente manera; $\\hat{\\beta_{0}}$, $\\hat{\\beta_{1}}$ y deben satisfacer lo siguiente:\n",
    "\n",
    "$\\begin{aligned}\n",
    "&\\left.\\frac{\\partial S}{\\partial \\beta_{0}}\\right|_{\\hat{\\beta}_{0} . \\hat{\\beta}_{1}}=-2 \\sum_{i=1}^{n}\\left(y_{i}-\\dot{\\beta}_{0}-\\hat{\\beta}_{1} x_{i}\\right)=0\\\\\n",
    "&y\\\\\n",
    "&\\left.\\frac{\\partial S}{\\partial \\beta_{1}}\\right|_{\\hat{\\beta}_{0}, \\beta_{1}}=-2 \\sum_{i=1}^{n}\\left(y_{i}-\\hat{\\beta}_{0}-\\hat{\\beta}_{1} x_{i}\\right) x_{i}=0\n",
    "\\end{aligned}$"
   ]
  },
  {
   "cell_type": "markdown",
   "metadata": {},
   "source": [
    "Al solucionar estas ecuaciones tenemos que:\n",
    "\n",
    "$\\begin{array}{c}\n",
    "n \\hat{\\beta}_{0}+\\hat{\\beta}_{1} \\sum_{i=1}^{n} x_{i}=\\sum_{i=1}^{n} y_{i} \\\\\n",
    "\\hat{\\beta}_{0} \\sum_{i=1}^{n} x_{i}+\\hat{\\beta}_{1} \\sum_{1=1}^{n} x_{i}^{2}=\\sum_{i=1}^{n} y_{i} x_{i}\n",
    "\\end{array}$"
   ]
  },
  {
   "cell_type": "markdown",
   "metadata": {},
   "source": [
    "Las ecuaciones anteriores son llamadas ecuaciones normales de mínimos cuadrados y su solución es la siguiente: \n",
    "\n",
    "$\\begin{array}{c}\n",
    "\\hat{\\beta}_{0}=\\bar{y}-\\hat{\\beta}_{1} \\bar{x} \\\\\n",
    "\\hat{\\beta}_{1}=\\frac{\\sum_{i=1}^{n} y_{i} x_{i}-\\frac{\\left(\\sum_{i=1}^{n} y_{i}\\right)\\left(\\sum_{i=1}^{n} x_{i}\\right)}{n}}{\\sum_{i=1}^{n} x_{i}^{2}-\\frac{\\left(\\sum_{i=1}^{n} x_{i}\\right)^{2}}{n}}\n",
    "\\end{array}$"
   ]
  },
  {
   "cell_type": "markdown",
   "metadata": {},
   "source": [
    "## Ejemplo con Datos Reales"
   ]
  },
  {
   "cell_type": "markdown",
   "metadata": {},
   "source": [
    "Con base al marco teórico anterior, nos disponemos a elaborar un ejemplo práctico del modelo de regresión lineal simple con la implementación de Python. \n",
    "[Regresion Lineal con Python](https://www.aprendemachinelearning.com/regresion-lineal-en-espanol-con-python/)"
   ]
  },
  {
   "cell_type": "markdown",
   "metadata": {},
   "source": [
    "Importación de librerias necesarias"
   ]
  },
  {
   "cell_type": "code",
   "execution_count": 68,
   "metadata": {},
   "outputs": [],
   "source": [
    "# Imports necesarios\n",
    "import numpy as np\n",
    "import pandas as pd\n",
    "import seaborn as sb\n",
    "import matplotlib.pyplot as plt\n",
    "%matplotlib inline\n",
    "from mpl_toolkits.mplot3d import Axes3D\n",
    "from matplotlib import cm\n",
    "plt.rcParams['figure.figsize'] = (16, 9)\n",
    "plt.style.use('ggplot')\n",
    "from sklearn import linear_model\n",
    "from sklearn.metrics import mean_squared_error, r2_score"
   ]
  },
  {
   "cell_type": "markdown",
   "metadata": {},
   "source": [
    "A continuación procedemos a leer el archivo csv y lo cargamos como un conjuntos de datos de Pandas, luego de esto mirarémos el tamaño del arreglo."
   ]
  },
  {
   "cell_type": "code",
   "execution_count": 69,
   "metadata": {},
   "outputs": [
    {
     "data": {
      "text/plain": [
       "(100, 3)"
      ]
     },
     "execution_count": 69,
     "metadata": {},
     "output_type": "execute_result"
    }
   ],
   "source": [
    "#cargamos los datos de entrada\n",
    "data = pd.read_csv(\"minimercados_python.csv\", delimiter=';')\n",
    "#veamos cuantas dimensiones y registros contiene\n",
    "data.shape"
   ]
  },
  {
   "cell_type": "code",
   "execution_count": 70,
   "metadata": {},
   "outputs": [
    {
     "data": {
      "text/html": [
       "<div>\n",
       "<style scoped>\n",
       "    .dataframe tbody tr th:only-of-type {\n",
       "        vertical-align: middle;\n",
       "    }\n",
       "\n",
       "    .dataframe tbody tr th {\n",
       "        vertical-align: top;\n",
       "    }\n",
       "\n",
       "    .dataframe thead th {\n",
       "        text-align: right;\n",
       "    }\n",
       "</style>\n",
       "<table border=\"1\" class=\"dataframe\">\n",
       "  <thead>\n",
       "    <tr style=\"text-align: right;\">\n",
       "      <th></th>\n",
       "      <th>publicidad</th>\n",
       "      <th>precio</th>\n",
       "      <th>ventas</th>\n",
       "    </tr>\n",
       "  </thead>\n",
       "  <tbody>\n",
       "    <tr>\n",
       "      <th>0</th>\n",
       "      <td>37,3</td>\n",
       "      <td>79</td>\n",
       "      <td>60</td>\n",
       "    </tr>\n",
       "    <tr>\n",
       "      <th>1</th>\n",
       "      <td>47,5</td>\n",
       "      <td>79</td>\n",
       "      <td>76</td>\n",
       "    </tr>\n",
       "    <tr>\n",
       "      <th>2</th>\n",
       "      <td>47,1</td>\n",
       "      <td>79</td>\n",
       "      <td>81</td>\n",
       "    </tr>\n",
       "    <tr>\n",
       "      <th>3</th>\n",
       "      <td>42,9</td>\n",
       "      <td>79</td>\n",
       "      <td>63</td>\n",
       "    </tr>\n",
       "    <tr>\n",
       "      <th>4</th>\n",
       "      <td>19,8</td>\n",
       "      <td>79</td>\n",
       "      <td>39</td>\n",
       "    </tr>\n",
       "  </tbody>\n",
       "</table>\n",
       "</div>"
      ],
      "text/plain": [
       "  publicidad  precio  ventas\n",
       "0       37,3      79      60\n",
       "1       47,5      79      76\n",
       "2       47,1      79      81\n",
       "3       42,9      79      63\n",
       "4       19,8      79      39"
      ]
     },
     "execution_count": 70,
     "metadata": {},
     "output_type": "execute_result"
    }
   ],
   "source": [
    "#son 100 registros con 3 columnas. Veamos los primeros registros\n",
    "data.head()"
   ]
  },
  {
   "cell_type": "markdown",
   "metadata": {},
   "source": [
    "Vemos algunas estadísticas de nuestro conjunto de datos."
   ]
  },
  {
   "cell_type": "code",
   "execution_count": 71,
   "metadata": {},
   "outputs": [
    {
     "data": {
      "text/html": [
       "<div>\n",
       "<style scoped>\n",
       "    .dataframe tbody tr th:only-of-type {\n",
       "        vertical-align: middle;\n",
       "    }\n",
       "\n",
       "    .dataframe tbody tr th {\n",
       "        vertical-align: top;\n",
       "    }\n",
       "\n",
       "    .dataframe thead th {\n",
       "        text-align: right;\n",
       "    }\n",
       "</style>\n",
       "<table border=\"1\" class=\"dataframe\">\n",
       "  <thead>\n",
       "    <tr style=\"text-align: right;\">\n",
       "      <th></th>\n",
       "      <th>precio</th>\n",
       "      <th>ventas</th>\n",
       "    </tr>\n",
       "  </thead>\n",
       "  <tbody>\n",
       "    <tr>\n",
       "      <th>count</th>\n",
       "      <td>100.000000</td>\n",
       "      <td>100.000000</td>\n",
       "    </tr>\n",
       "    <tr>\n",
       "      <th>mean</th>\n",
       "      <td>99.000000</td>\n",
       "      <td>43.160000</td>\n",
       "    </tr>\n",
       "    <tr>\n",
       "      <th>std</th>\n",
       "      <td>16.329932</td>\n",
       "      <td>17.782479</td>\n",
       "    </tr>\n",
       "    <tr>\n",
       "      <th>min</th>\n",
       "      <td>79.000000</td>\n",
       "      <td>7.000000</td>\n",
       "    </tr>\n",
       "    <tr>\n",
       "      <th>25%</th>\n",
       "      <td>79.000000</td>\n",
       "      <td>30.000000</td>\n",
       "    </tr>\n",
       "    <tr>\n",
       "      <th>50%</th>\n",
       "      <td>99.000000</td>\n",
       "      <td>40.000000</td>\n",
       "    </tr>\n",
       "    <tr>\n",
       "      <th>75%</th>\n",
       "      <td>119.000000</td>\n",
       "      <td>58.000000</td>\n",
       "    </tr>\n",
       "    <tr>\n",
       "      <th>max</th>\n",
       "      <td>119.000000</td>\n",
       "      <td>81.000000</td>\n",
       "    </tr>\n",
       "  </tbody>\n",
       "</table>\n",
       "</div>"
      ],
      "text/plain": [
       "           precio      ventas\n",
       "count  100.000000  100.000000\n",
       "mean    99.000000   43.160000\n",
       "std     16.329932   17.782479\n",
       "min     79.000000    7.000000\n",
       "25%     79.000000   30.000000\n",
       "50%     99.000000   40.000000\n",
       "75%    119.000000   58.000000\n",
       "max    119.000000   81.000000"
      ]
     },
     "execution_count": 71,
     "metadata": {},
     "output_type": "execute_result"
    }
   ],
   "source": [
    "\n",
    "data.describe()"
   ]
  },
  {
   "cell_type": "markdown",
   "metadata": {},
   "source": [
    "## Regresión Lineal con Python y SKLearn"
   ]
  },
  {
   "cell_type": "markdown",
   "metadata": {},
   "source": [
    "Propondremos un modelo estadístico para explicar el numero de máquinas de afeitar desechables vendidas por los minimercados en función del precio."
   ]
  },
  {
   "cell_type": "code",
   "execution_count": 87,
   "metadata": {},
   "outputs": [
    {
     "name": "stdout",
     "output_type": "stream",
     "text": [
      "Coefficients: \n",
      " [[-0.59015152]]\n",
      "Independent term: \n",
      " [101.585]\n",
      "Mean squared error: 221.11\n",
      "Variance score: 0.29\n"
     ]
    }
   ],
   "source": [
    "# Asignamos nuestra variable de entrada X para entrenamiento y las etiquetas Y.\n",
    "x = data['precio'].values.reshape(-1,1)\n",
    "y = data['ventas'].values.reshape(-1,1)\n",
    "\n",
    "# Creamos el objeto de Regresión Linear\n",
    "regr = linear_model.LinearRegression()\n",
    "\n",
    "# Entrenamos nuestro modelo\n",
    "regr.fit(x, y)\n",
    "\n",
    "# Hacemos las predicciones que en definitiva una línea (en este caso, al ser 2D)\n",
    "y_pred = regr.predict(x)\n",
    "\n",
    "# Veamos los coeficienetes obtenidos, En nuestro caso, serán la Tangente\n",
    "print('Coefficients: \\n', regr.coef_)\n",
    "# Este es el valor donde corta el eje Y (en X=0)\n",
    "print('Independent term: \\n', regr.intercept_)\n",
    "# Error Cuadrado Medio\n",
    "print(\"Mean squared error: %.2f\" % mean_squared_error(y, y_pred))\n",
    "# Puntaje de Varianza. El mejor puntaje es un 1.0\n",
    "print('Variance score: %.2f' % r2_score(y, y_pred))"
   ]
  },
  {
   "cell_type": "markdown",
   "metadata": {},
   "source": [
    "Podemos ver que las estimaciones para $\\beta_{0}$ y $\\beta{1}$ son respectivamente 101.585 y -0.590"
   ]
  },
  {
   "cell_type": "code",
   "execution_count": 89,
   "metadata": {},
   "outputs": [
    {
     "data": {
      "image/png": "[encoded data removed]",
      "text/plain": [
       "<Figure size 1152x648 with 1 Axes>"
      ]
     },
     "metadata": {},
     "output_type": "display_data"
    }
   ],
   "source": [
    "plt.scatter(x,y)\n",
    "plt.plot(x,y_pred,color='blue')\n",
    "plt.xlabel(\"Precio\")\n",
    "plt.ylabel(\"Ventas\")\n",
    "plt.show()"
   ]
  },
  {
   "cell_type": "markdown",
   "metadata": {},
   "source": [
    "## Conclusiones"
   ]
  },
  {
   "cell_type": "markdown",
   "metadata": {},
   "source": [
    "Uno de los criterios para determinar cuán bien se ajusta el modelo a nuestros datos, es el \n",
    "error cuadrático medio, cuyo valor fue muy grande, 221.11, lo ideal es que este valor sea lo más pequeño posible, por lo tanto, el modelo no es apropiado para los datos."
   ]
  },
  {
   "cell_type": "code",
   "execution_count": null,
   "metadata": {},
   "outputs": [],
   "source": []
  }
 ],
 "metadata": {
  "kernelspec": {
   "display_name": "Python 3",
   "language": "python",
   "name": "python3"
  },
  "language_info": {
   "codemirror_mode": {
    "name": "ipython",
    "version": 3
   },
   "file_extension": ".py",
   "mimetype": "text/x-python",
   "name": "python",
   "nbconvert_exporter": "python",
   "pygments_lexer": "ipython3",
   "version": "3.8.3"
  }
 },
 "nbformat": 4,
 "nbformat_minor": 4
}
